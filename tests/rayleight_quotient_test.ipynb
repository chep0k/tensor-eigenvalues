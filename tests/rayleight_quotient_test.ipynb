{
 "cells": [
  {
   "cell_type": "code",
   "execution_count": 6,
   "metadata": {},
   "outputs": [],
   "source": [
    "import os\n",
    "from pathlib import Path\n",
    "\n",
    "\n",
    "os.chdir(Path.cwd().parent)"
   ]
  },
  {
   "cell_type": "code",
   "execution_count": 7,
   "metadata": {},
   "outputs": [],
   "source": [
    "import numpy as np\n",
    "\n",
    "from src.rayleight_quotient import rayleight_quotient, rayleight_quotient_naive\n",
    "from src.utils.linalg import generate_normalized_vector, generate_supersymmetric_tensor\n",
    "from src.utils.testing import timer"
   ]
  },
  {
   "cell_type": "code",
   "execution_count": 8,
   "metadata": {},
   "outputs": [],
   "source": [
    "def test_rayleight_quotient_base(A: np.ndarray,\n",
    "                                 x: np.ndarray,\n",
    "                                 use_timer: bool = False,\n",
    "                                 verbose: bool = False) -> tuple[float, float] | None:\n",
    "    \"\"\"\n",
    "    Test Rayleigh quotient computation with for loops and with numpy.\n",
    "\n",
    "    :param A: supersymmetric tensor of shape (n x n x ... x n) of order k\n",
    "    :param X: normalized vector of shape (n,)\n",
    "    :param use_timer: whether to measure duration of computations\n",
    "    :param verbose: whether to print more info\n",
    "\n",
    "    :return: durations of naive and numpy approaches if |use_timer| is set\n",
    "    \"\"\"\n",
    "    if verbose:\n",
    "        print(f\"testing Raylight quotient computation with parameters:\\n\"\n",
    "              f\"tensor a of shape {A.shape}\\na = {A}\\n\"\n",
    "              f\"vector x = {x}\")\n",
    "\n",
    "    rq_naive, duration_naive = timer(rayleight_quotient_naive, A, x)\n",
    "    rq_numpy, duration_numpy = timer(rayleight_quotient, A, x)\n",
    "\n",
    "    assert np.isclose(rq_naive, rq_numpy, atol=1e-6), f\"{rq_naive=}\\n{rq_numpy=}\"\n",
    "\n",
    "    if use_timer:\n",
    "        return duration_naive, duration_numpy"
   ]
  },
  {
   "cell_type": "code",
   "execution_count": 9,
   "metadata": {},
   "outputs": [],
   "source": [
    "def test_rayleight_quotient_stress() -> None:\n",
    "    n = 6\n",
    "    k = 6\n",
    "    for _ in range(10):\n",
    "        A = generate_supersymmetric_tensor(n, k)\n",
    "        x = generate_normalized_vector(n)\n",
    "        test_rayleight_quotient_base(A, x)\n",
    "\n",
    "def test_rayleight_quotient_stress_timer() -> None:\n",
    "    n = 6\n",
    "    k = 6\n",
    "    durations_naive = []\n",
    "    durations_numpy = []\n",
    "    for _ in range(10):\n",
    "        A = generate_supersymmetric_tensor(n, k)\n",
    "        x = generate_normalized_vector(n)\n",
    "        duration_naive, duration_numpy = test_rayleight_quotient_base(A, x, use_timer=True)\n",
    "        durations_naive.append(duration_naive)\n",
    "        durations_numpy.append(duration_numpy)\n",
    "\n",
    "    print(f\"naive estimation duration: {np.mean(durations_naive)}\")\n",
    "    print(f\"numpy estimation duration: {np.mean(durations_numpy)}\")\n"
   ]
  },
  {
   "cell_type": "code",
   "execution_count": 10,
   "metadata": {},
   "outputs": [
    {
     "name": "stdout",
     "output_type": "stream",
     "text": [
      "naive estimation duration: 0.26943221092224123\n",
      "numpy estimation duration: 0.00014607906341552735\n"
     ]
    }
   ],
   "source": [
    "test_rayleight_quotient_stress()\n",
    "test_rayleight_quotient_stress_timer()"
   ]
  }
 ],
 "metadata": {
  "kernelspec": {
   "display_name": "Python 3.10.6 64-bit ('3.10.6')",
   "language": "python",
   "name": "python3"
  },
  "language_info": {
   "codemirror_mode": {
    "name": "ipython",
    "version": 3
   },
   "file_extension": ".py",
   "mimetype": "text/x-python",
   "name": "python",
   "nbconvert_exporter": "python",
   "pygments_lexer": "ipython3",
   "version": "3.10.6 (main, Oct 12 2022, 19:56:13) [GCC 9.4.0]"
  },
  "orig_nbformat": 4,
  "vscode": {
   "interpreter": {
    "hash": "c08be5441b1f006d3ab5f33db8e57b0fda1cc488f7f96bd19d67ec209616830b"
   }
  }
 },
 "nbformat": 4,
 "nbformat_minor": 2
}
