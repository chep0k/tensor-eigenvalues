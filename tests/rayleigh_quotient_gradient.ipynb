{
 "cells": [
  {
   "cell_type": "code",
   "execution_count": 1,
   "metadata": {},
   "outputs": [],
   "source": [
    "import os\n",
    "from pathlib import Path\n",
    "\n",
    "\n",
    "os.chdir(Path.cwd().parent)"
   ]
  },
  {
   "cell_type": "code",
   "execution_count": 2,
   "metadata": {},
   "outputs": [],
   "source": [
    "import numpy as np\n",
    "\n",
    "from src.rayleigh_quotient import rayleigh_quotient\n",
    "from src.rayleigh_quotient_gradient import rayleigh_quotient_gradient, rayleigh_quotient_gradient_naive\n",
    "from src.utils.linalg import generate_normalized_vector, generate_supersymmetric_tensor, normalize_vector\n",
    "from src.utils.testing import timer"
   ]
  },
  {
   "cell_type": "code",
   "execution_count": 3,
   "metadata": {},
   "outputs": [],
   "source": [
    "def test_rayleight_quotient_gradient_base(A: np.ndarray,\n",
    "                                          X: np.ndarray,\n",
    "                                          use_timer: bool = False,\n",
    "                                          verbose: bool = False) -> tuple[int, int] | None:\n",
    "    \"\"\"\n",
    "    Test Rayleigh quotient gradient computation with for loops and with numpy.\n",
    "\n",
    "    :param A: supersymmetric tensor of shape (n x n x ... x n) of order k\n",
    "    :param X: normalized vector of shape (n,)\n",
    "    :param use_timer: whether to measure duration of computations\n",
    "    :param verbose: whether to print more info\n",
    "\n",
    "    :return: durations of naive and numpy approaches if |use_timer| is set\n",
    "    \"\"\"\n",
    "    if verbose:\n",
    "        print(f\"testing Rayligh quotient gradient computation with parameters:\\n\"\n",
    "              f\"tensor a of shape {A.shape}\\na = {A}\\n\"\n",
    "              f\"vector x = {X}\")\n",
    "    \n",
    "    rqg_naive, duration_naive = timer(rayleigh_quotient_gradient_naive, A, X)\n",
    "    rqg_numpy, duration_numpy = timer(rayleigh_quotient_gradient, A, X)\n",
    "\n",
    "    assert np.linalg.norm(rqg_naive - rqg_numpy) < 0.001,\\\n",
    "           f\"Following values should be equal:\\n{rqg_naive=}\\n{rqg_numpy=}\"\n",
    "\n",
    "    if use_timer:\n",
    "        return duration_naive, duration_numpy"
   ]
  },
  {
   "cell_type": "code",
   "execution_count": 4,
   "metadata": {},
   "outputs": [],
   "source": [
    "def test_rayleight_quotient_gradient_stress() -> None:\n",
    "    n = 6\n",
    "    k = 6\n",
    "    for _ in range(10):\n",
    "        a = generate_supersymmetric_tensor(n, k)\n",
    "        x = generate_normalized_vector(n)\n",
    "        test_rayleight_quotient_gradient_base(a, x)\n",
    "\n",
    "def test_rayleight_quotient_gradient_stress_timer() -> None:\n",
    "    n = 6\n",
    "    k = 6\n",
    "    durations_naive = []\n",
    "    durations_numpy = []\n",
    "    for _ in range(10):\n",
    "        a = generate_supersymmetric_tensor(n, k)\n",
    "        x = generate_normalized_vector(n)\n",
    "        duration_naive, duration_numpy = test_rayleight_quotient_gradient_base(a, x, use_timer=True)\n",
    "        durations_naive.append(duration_naive)\n",
    "        durations_numpy.append(duration_numpy)\n",
    "\n",
    "    print(f\"naive estimation duration: {np.mean(durations_naive)}\")\n",
    "    print(f\"numpy estimation duration: {np.mean(durations_numpy)}\")\n"
   ]
  },
  {
   "cell_type": "code",
   "execution_count": 5,
   "metadata": {},
   "outputs": [
    {
     "name": "stdout",
     "output_type": "stream",
     "text": [
      "naive estimation duration: 0.5364293575286865\n",
      "numpy estimation duration: 0.0001625537872314453\n"
     ]
    }
   ],
   "source": [
    "test_rayleight_quotient_gradient_stress()\n",
    "test_rayleight_quotient_gradient_stress_timer()"
   ]
  },
  {
   "cell_type": "code",
   "execution_count": 6,
   "metadata": {},
   "outputs": [],
   "source": [
    "def test_gradient_approximation(n: int, k: int, eps: float = 1e-8) -> None:\n",
    "    print(f\"test gradient approximation with {n=}, {k=}\")\n",
    "    errors = []\n",
    "    for _ in range(10):\n",
    "        A = generate_supersymmetric_tensor(n, k)\n",
    "        for __ in range(10):\n",
    "            x = generate_normalized_vector(n)\n",
    "            grad = rayleigh_quotient_gradient(A, x)\n",
    "            for ___ in range(10):\n",
    "                t = generate_normalized_vector(n)\n",
    "                rq1 = rayleigh_quotient(A, normalize_vector(x + eps * t))\n",
    "                rq2 = rayleigh_quotient(A, normalize_vector(x - eps * t))\n",
    "                grad_approx = (rq1 - rq2) / (2 * eps)\n",
    "                error = np.linalg.norm(grad @ t - grad_approx)\n",
    "                errors.append(error)\n",
    "\n",
    "    print(f\"max error = {max(errors)}\")\n",
    "    print(f\"mean error = {np.mean(errors)}\")"
   ]
  },
  {
   "cell_type": "code",
   "execution_count": 7,
   "metadata": {},
   "outputs": [
    {
     "name": "stdout",
     "output_type": "stream",
     "text": [
      "test gradient approximation with n=2, k=2\n",
      "max error = 4.8329193536034154e-08\n",
      "mean error = 8.597349251807107e-09\n"
     ]
    }
   ],
   "source": [
    "test_gradient_approximation(n=2, k=2)"
   ]
  },
  {
   "cell_type": "code",
   "execution_count": 8,
   "metadata": {},
   "outputs": [
    {
     "name": "stdout",
     "output_type": "stream",
     "text": [
      "test gradient approximation with n=3, k=3\n",
      "max error = 4.5199843090593106e-07\n",
      "mean error = 7.573425512527598e-08\n"
     ]
    }
   ],
   "source": [
    "test_gradient_approximation(n=3, k=3)"
   ]
  },
  {
   "cell_type": "code",
   "execution_count": 9,
   "metadata": {},
   "outputs": [
    {
     "name": "stdout",
     "output_type": "stream",
     "text": [
      "test gradient approximation with n=6, k=6\n",
      "max error = 1.9186963982065208e-05\n",
      "mean error = 3.5854217794621945e-06\n"
     ]
    }
   ],
   "source": [
    "test_gradient_approximation(n=6, k=6, eps=1e-6)"
   ]
  }
 ],
 "metadata": {
  "kernelspec": {
   "display_name": "Python 3.10.6 64-bit ('3.10.6')",
   "language": "python",
   "name": "python3"
  },
  "language_info": {
   "codemirror_mode": {
    "name": "ipython",
    "version": 3
   },
   "file_extension": ".py",
   "mimetype": "text/x-python",
   "name": "python",
   "nbconvert_exporter": "python",
   "pygments_lexer": "ipython3",
   "version": "3.10.6"
  },
  "orig_nbformat": 4,
  "vscode": {
   "interpreter": {
    "hash": "c08be5441b1f006d3ab5f33db8e57b0fda1cc488f7f96bd19d67ec209616830b"
   }
  }
 },
 "nbformat": 4,
 "nbformat_minor": 2
}
