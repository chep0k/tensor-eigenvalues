{
 "cells": [
  {
   "cell_type": "code",
   "execution_count": 24,
   "metadata": {},
   "outputs": [],
   "source": [
    "import os\n",
    "from pathlib import Path\n",
    "\n",
    "\n",
    "os.chdir(Path.cwd().parent)"
   ]
  },
  {
   "cell_type": "code",
   "execution_count": 25,
   "metadata": {},
   "outputs": [
    {
     "name": "stdout",
     "output_type": "stream",
     "text": [
      "The autoreload extension is already loaded. To reload it, use:\n",
      "  %reload_ext autoreload\n"
     ]
    }
   ],
   "source": [
    "import numpy as np\n",
    "\n",
    "from src.rayleigh_quotient import rayleigh_quotient\n",
    "from src.rayleigh_quotient_gradient import rayleigh_quotient_gradient\n",
    "from src.rayleigh_quotient_hessian import rayleigh_quotient_hessian, rayleigh_quotient_hessian_naive\n",
    "from src.utils.linalg import (\n",
    "    generate_normalized_vector, generate_supersymmetric_tensor, normalize_vector, projection\n",
    ")\n",
    "from src.utils.testing import timer\n",
    "\n",
    "\n",
    "%load_ext autoreload\n",
    "%autoreload 2"
   ]
  },
  {
   "cell_type": "code",
   "execution_count": 26,
   "metadata": {},
   "outputs": [],
   "source": [
    "def test_rayleigh_quotient_hessian() -> None:\n",
    "    k, n = 2, 2\n",
    "    A = generate_supersymmetric_tensor(k, n)\n",
    "    x = generate_normalized_vector(n)\n",
    "    proj = projection(x)\n",
    "    hess_true = 2 * proj @ (A - rayleigh_quotient(A, x) * np.eye(n)) @ proj\n",
    "    hess_estimated = rayleigh_quotient_hessian(A, x)\n",
    "    assert np.allclose(hess_true, hess_estimated, atol=1e-4)\n"
   ]
  },
  {
   "cell_type": "code",
   "execution_count": 27,
   "metadata": {},
   "outputs": [],
   "source": [
    "test_rayleigh_quotient_hessian()"
   ]
  },
  {
   "cell_type": "code",
   "execution_count": 28,
   "metadata": {},
   "outputs": [],
   "source": [
    "def G_t_derivative_1(x: np.ndarray, xi: np.ndarray, t: int = 0) -> np.ndarray:\n",
    "    assert t == 0  # t != 0 later\n",
    "    x_norm = np.linalg.norm(x)\n",
    "    return xi / x_norm - ((x.T @ xi) * x) / x_norm**3\n",
    "\n",
    "def G_t_derivative_2(x: np.ndarray, xi: np.ndarray, t: int = 0) -> np.ndarray:\n",
    "    assert t == 0  # t != 0 later\n",
    "    x_norm = np.linalg.norm(x)\n",
    "    xi_norm = np.linalg.norm(xi)\n",
    "    x_xi = x.T @ xi\n",
    "    return (3 * x_xi**2 * x) / x_norm**5 - (xi_norm**2 * x + 2 * x_xi * xi) / x_norm**3\n",
    "\n",
    "def test_hessian_approximation(n: int, k: int, eps: float = 1e-6) -> None:\n",
    "    \"\"\"\n",
    "    Testing Riemannian hessian correctness with second order expansion of Rayleigh quotient.\n",
    "    See https://www.nicolasboumal.net/book/IntroOptimManifolds_Boumal_2023.pdf, Chapter 5.9\n",
    "        for implementation details.\n",
    "    \"\"\"\n",
    "\n",
    "    print(f\"test hessian approximation with {n=}, {k=}\")\n",
    "    print()\n",
    "\n",
    "    errors = []\n",
    "    for _ in range(10):\n",
    "        A = generate_supersymmetric_tensor(n, k)\n",
    "        for __ in range(10):\n",
    "            x = generate_normalized_vector(n)\n",
    "            rq = rayleigh_quotient(A, x)\n",
    "            grad = rayleigh_quotient_gradient(A, x)\n",
    "            hess = rayleigh_quotient_hessian(A, x)\n",
    "            for ___ in range(10):\n",
    "                t = generate_normalized_vector(n)\n",
    "                deriv1 = G_t_derivative_1(x, t)\n",
    "                deriv2 = G_t_derivative_2(x, t)\n",
    "                rq1 = rayleigh_quotient(A, normalize_vector(x + eps * t))\n",
    "                rq2 = rayleigh_quotient(A, normalize_vector(x - eps * t))\n",
    "                hess_vec = deriv1.T @ hess @ deriv1\n",
    "                grad_vec = grad.T @ deriv2\n",
    "                lhs = (rq1 + rq2 - 2 * rq) / eps**2 - grad_vec\n",
    "                rhs = hess_vec\n",
    "                error = np.linalg.norm(lhs - rhs)\n",
    "                errors.append(error)\n",
    "\n",
    "    print(f\"max error = {max(errors)}\")\n",
    "    print(f\"mean error = {np.mean(errors)}\")"
   ]
  },
  {
   "cell_type": "code",
   "execution_count": 30,
   "metadata": {},
   "outputs": [
    {
     "name": "stdout",
     "output_type": "stream",
     "text": [
      "test hessian approximation with n=6, k=6\n",
      "\n",
      "max error = 0.595321700166096\n",
      "mean error = 0.1442675795696444\n"
     ]
    }
   ],
   "source": [
    "test_hessian_approximation(n=6, k=6, eps=1e-4)"
   ]
  }
 ],
 "metadata": {
  "kernelspec": {
   "display_name": "Python 3.10.6 64-bit ('3.10.6')",
   "language": "python",
   "name": "python3"
  },
  "language_info": {
   "codemirror_mode": {
    "name": "ipython",
    "version": 3
   },
   "file_extension": ".py",
   "mimetype": "text/x-python",
   "name": "python",
   "nbconvert_exporter": "python",
   "pygments_lexer": "ipython3",
   "version": "3.10.6"
  },
  "orig_nbformat": 4,
  "vscode": {
   "interpreter": {
    "hash": "c08be5441b1f006d3ab5f33db8e57b0fda1cc488f7f96bd19d67ec209616830b"
   }
  }
 },
 "nbformat": 4,
 "nbformat_minor": 2
}
